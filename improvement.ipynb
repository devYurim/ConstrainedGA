{
 "cells": [
  {
   "cell_type": "code",
   "execution_count": 1,
   "id": "4f8b566e",
   "metadata": {},
   "outputs": [],
   "source": [
    "from SAS_calculator.sascorer import calculateScore\n",
    "from rdkit.Chem import AllChem\n",
    "from rdkit.Chem import Descriptors\n",
    "from rdkit.DataStructs.cDataStructs import TanimotoSimilarity\n",
    "from rdkit.Chem import AllChem\n",
    "from rdkit.Chem import MolFromSmiles\n",
    "from rdkit.Chem import MolToSmiles\n",
    "import rdkit\n",
    "from rdkit import Chem\n",
    "import numpy as np\n",
    "\n",
    "def sanitize_smiles(smi):\n",
    "    '''Return a canonical smile representation of smi\n",
    "\n",
    "    Parameters:\n",
    "    smi (string) : smile string to be canonicalized\n",
    "\n",
    "    Returns:\n",
    "    mol (rdkit.Chem.rdchem.Mol) : RdKit mol object                          (None if invalid smile string smi)\n",
    "    smi_canon (string)          : Canonicalized smile representation of smi (None if invalid smile string smi)\n",
    "    conversion_successful (bool): True/False to indicate if conversion was  successful\n",
    "    '''\n",
    "    try:\n",
    "        mol = MolFromSmiles(smi, sanitize=True)\n",
    "        smi_canon = MolToSmiles(mol, isomericSmiles=False, canonical=True)\n",
    "        return (mol, smi_canon, True)\n",
    "    except:\n",
    "        return (None, None, False)\n",
    "    \n",
    "def get_ECFP4(mol):\n",
    "    return AllChem.GetMorganFingerprint(mol, 2)\n",
    "\n",
    "def get_logP(mol):\n",
    "    '''Calculate logP of a molecule\n",
    "\n",
    "    Parameters:\n",
    "    mol (rdkit.Chem.rdchem.Mol) : RdKit mol object, for which logP is to calculates\n",
    "\n",
    "    Returns:\n",
    "    float : logP of molecule (mol)\n",
    "    '''\n",
    "    return Descriptors.MolLogP(mol)\n",
    "\n",
    "def get_fp_score(mol, target):\n",
    "    fp_target = get_ECFP4(target)\n",
    "    fp_mol = get_ECFP4(mol)\n",
    "    score = TanimotoSimilarity(fp_mol, fp_target)\n",
    "    return score\n",
    "\n",
    "def get_sas_score(smi):\n",
    "    mol, smi_canon, did_convert = sanitize_smiles(smi)\n",
    "    if did_convert:\n",
    "        sas_score = calculateScore(mol)\n",
    "        return sas_score\n",
    "    else:\n",
    "        return None\n",
    "        \n",
    "def get_ringP(smi):\n",
    "    mol, smi_canon, did_convert = sanitize_smiles(smi)\n",
    "    if did_convert:\n",
    "        cycle_list = mol.GetRingInfo().AtomRings()\n",
    "        if len(cycle_list) == 0:\n",
    "            cycle_length = 0\n",
    "        else:\n",
    "            cycle_length = max([len(j) for j in cycle_list])\n",
    "        if cycle_length <= 6:\n",
    "            cycle_length = 0\n",
    "        else:\n",
    "            cycle_length = cycle_length - 6\n",
    "    else:\n",
    "        raise Exception('Invalid smile encountered while atempting to calculate Ring penalty')\n",
    "    return cycle_length\n",
    "\n",
    "def calc_plogp(logP_calculated, SAS_calculated, RingP_calculated):\n",
    "    logP_norm = (logP_calculated - 2.4729421499641497) / 1.4157879815362406\n",
    "    SAS_norm = (SAS_calculated - 3.0470797085649894) / 0.830643172314514\n",
    "    RingP_norm = (RingP_calculated - 0.038131530820234766) / 0.2240274735210179\n",
    "    \n",
    "    return logP_norm, SAS_norm, RingP_norm\n"
   ]
  },
  {
   "cell_type": "code",
   "execution_count": 2,
   "id": "af989bec",
   "metadata": {},
   "outputs": [],
   "source": [
    "f = open('.//data//logp_800.txt')\n",
    "lines = f.readlines()\n",
    "smiles = []\n",
    "for line in lines:\n",
    "    smiles.append(line.strip())"
   ]
  },
  {
   "cell_type": "code",
   "execution_count": 3,
   "id": "17a9880f",
   "metadata": {},
   "outputs": [
    {
     "data": {
      "text/plain": [
       "800"
      ]
     },
     "execution_count": 3,
     "metadata": {},
     "output_type": "execute_result"
    }
   ],
   "source": [
    "len(smiles)"
   ]
  },
  {
   "cell_type": "code",
   "execution_count": 4,
   "id": "af813e08",
   "metadata": {},
   "outputs": [],
   "source": [
    "basement = []\n",
    "for smi in smiles:\n",
    "    mol, smi_canon, valid = sanitize_smiles(smi)\n",
    "    logp = get_logP(mol)\n",
    "    sas = get_sas_score(smi_canon)\n",
    "    ringpenalty = get_ringP(smi_canon)\n",
    "    plogp = logp-sas-ringpenalty\n",
    "    basement.append(plogp)"
   ]
  },
  {
   "cell_type": "code",
   "execution_count": 5,
   "id": "2ed95a73",
   "metadata": {},
   "outputs": [
    {
     "data": {
      "text/plain": [
       "800"
      ]
     },
     "execution_count": 5,
     "metadata": {},
     "output_type": "execute_result"
    }
   ],
   "source": [
    "len(basement)"
   ]
  },
  {
   "cell_type": "code",
   "execution_count": 6,
   "id": "e00eecb8",
   "metadata": {},
   "outputs": [],
   "source": [
    "path = './/output//constrained//0.4//'\n",
    "files = []\n",
    "for i in range(1, 801):\n",
    "    files.append(\"{}{}_similarity0.4_molecular(max).txt\".format(path, i))"
   ]
  },
  {
   "cell_type": "code",
   "execution_count": 7,
   "id": "f2b87865",
   "metadata": {},
   "outputs": [
    {
     "data": {
      "text/plain": [
       "'.//output//constrained//0.4//1_similarity0.4_molecular(max).txt'"
      ]
     },
     "execution_count": 7,
     "metadata": {},
     "output_type": "execute_result"
    }
   ],
   "source": [
    "files[0]"
   ]
  },
  {
   "cell_type": "code",
   "execution_count": 8,
   "id": "aed5c65a",
   "metadata": {},
   "outputs": [],
   "source": [
    "imp_avg1 = []\n",
    "best_smiles1 = []\n",
    "for i, file in enumerate(files):\n",
    "    f = open(file)\n",
    "    lines = f.readlines()\n",
    "    improvements = []\n",
    "    opt_smiles = []\n",
    "    opt_logp = [] \n",
    "    for line in lines:\n",
    "        line = line.strip().split(',')\n",
    "        opt_smiles.append(line[1])\n",
    "    for smi in opt_smiles:\n",
    "        mol, smi_canon, valid = sanitize_smiles(smi)\n",
    "        logp = get_logP(mol)\n",
    "        sas = get_sas_score(smi_canon)\n",
    "        ringpenalty = get_ringP(smi_canon)\n",
    "        plogp = logp-sas-ringpenalty\n",
    "        opt_logp.append(plogp)\n",
    "    \n",
    "    best = np.array(max(opt_logp))\n",
    "    improvement = best - basement[i]\n",
    "    idx = opt_logp.index(max(opt_logp))\n",
    "    imp_avg1.append(improvement)\n",
    "    best_smiles1.append(opt_smiles[idx])"
   ]
  },
  {
   "cell_type": "code",
   "execution_count": 9,
   "id": "f2f43790",
   "metadata": {},
   "outputs": [],
   "source": [
    "imp_avg1 = np.array(imp_avg1)\n",
    "mean1 = imp_avg1.mean()\n",
    "std1 = imp_avg1.std()"
   ]
  },
  {
   "cell_type": "code",
   "execution_count": 10,
   "id": "4e35d5e7",
   "metadata": {},
   "outputs": [
    {
     "name": "stdout",
     "output_type": "stream",
     "text": [
      "5.531372379327557 1.2965603745170953\n"
     ]
    }
   ],
   "source": [
    "print(mean1, std1)"
   ]
  },
  {
   "cell_type": "code",
   "execution_count": 11,
   "id": "4d93fd71",
   "metadata": {},
   "outputs": [],
   "source": [
    "path = './/output//constrained//0.6//'\n",
    "files = []\n",
    "for i in range(1, 801):\n",
    "    files.append(\"{}{}_similarity0.6_molecular(max).txt\".format(path, i))"
   ]
  },
  {
   "cell_type": "code",
   "execution_count": 12,
   "id": "c1bc8779",
   "metadata": {},
   "outputs": [
    {
     "data": {
      "text/plain": [
       "'.//output//constrained//0.6//1_similarity0.6_molecular(max).txt'"
      ]
     },
     "execution_count": 12,
     "metadata": {},
     "output_type": "execute_result"
    }
   ],
   "source": [
    "files[0]"
   ]
  },
  {
   "cell_type": "code",
   "execution_count": 13,
   "id": "e9ade2ea",
   "metadata": {},
   "outputs": [],
   "source": [
    "imp_avg2 = []\n",
    "best_smiles2 = []\n",
    "for i, file in enumerate(files):\n",
    "    f = open(file)\n",
    "    lines = f.readlines()\n",
    "    improvements = []\n",
    "    opt_smiles = []\n",
    "    opt_logp = [] \n",
    "    for line in lines:\n",
    "        line = line.strip().split(',')\n",
    "        opt_smiles.append(line[1])\n",
    "    for smi in opt_smiles:\n",
    "        mol, smi_canon, valid = sanitize_smiles(smi)\n",
    "        logp = get_logP(mol)\n",
    "        sas = get_sas_score(smi_canon)\n",
    "        ringpenalty = get_ringP(smi_canon)\n",
    "        plogp = logp-sas-ringpenalty\n",
    "        opt_logp.append(plogp)\n",
    "    \n",
    "    best = np.array(max(opt_logp))\n",
    "    improvement = best - basement[i]\n",
    "    idx = opt_logp.index(max(opt_logp))\n",
    "    imp_avg2.append(improvement)\n",
    "    best_smiles2.append(opt_smiles[idx])"
   ]
  },
  {
   "cell_type": "code",
   "execution_count": 14,
   "id": "01b34609",
   "metadata": {},
   "outputs": [],
   "source": [
    "imp_avg2 = np.array(imp_avg2)\n",
    "mean2 = imp_avg2.mean()\n",
    "std2 = imp_avg2.std()"
   ]
  },
  {
   "cell_type": "code",
   "execution_count": 15,
   "id": "12f14e5b",
   "metadata": {},
   "outputs": [
    {
     "name": "stdout",
     "output_type": "stream",
     "text": [
      "3.672409621477654 1.139262106235807\n"
     ]
    }
   ],
   "source": [
    "print(mean2, std2)"
   ]
  },
  {
   "cell_type": "code",
   "execution_count": 16,
   "id": "1672589a",
   "metadata": {},
   "outputs": [],
   "source": [
    "import seaborn as sns\n",
    "import matplotlib\n",
    "import matplotlib.pyplot as plt\n",
    "plt.rcParams.update({'font.size': 15})"
   ]
  },
  {
   "cell_type": "code",
   "execution_count": 17,
   "id": "72c7679e",
   "metadata": {},
   "outputs": [
    {
     "data": {
      "text/plain": [
       "<matplotlib.legend.Legend at 0x1a939edff88>"
      ]
     },
     "execution_count": 17,
     "metadata": {},
     "output_type": "execute_result"
    },
    {
     "data": {
      "image/png": "[encoded data removed]",
      "text/plain": [
       "<Figure size 720x360 with 1 Axes>"
      ]
     },
     "metadata": {
      "needs_background": "light"
     },
     "output_type": "display_data"
    }
   ],
   "source": [
    "fig = plt.figure(figsize = (10,5))\n",
    "plt.ylabel('', fontsize=15)\n",
    "plt.xlabel('panelized LogP', fontsize=15)\n",
    "plt.title('Penalized LogP Distribution',fontsize=20, pad=10)\n",
    "sns.kdeplot(basement, color='skyblue', label='origin', shade=True,alpha=.2, linewidth=0.1)\n",
    "sns.kdeplot(imp_avg1, color='red', label='improvement(δ=0.4)', shade=True,alpha=.2, linewidth=0.1)\n",
    "sns.kdeplot(imp_avg2, color='green', label='improvement(δ=0.6)', shade=True, alpha=.2, linewidth=0.1)\n",
    "plt.legend(loc='upper left', fontsize=13)"
   ]
  }
 ],
 "metadata": {
  "kernelspec": {
   "display_name": "Python 3 (ipykernel)",
   "language": "python",
   "name": "python3"
  },
  "language_info": {
   "codemirror_mode": {
    "name": "ipython",
    "version": 3
   },
   "file_extension": ".py",
   "mimetype": "text/x-python",
   "name": "python",
   "nbconvert_exporter": "python",
   "pygments_lexer": "ipython3",
   "version": "3.7.11"
  }
 },
 "nbformat": 4,
 "nbformat_minor": 5
}
